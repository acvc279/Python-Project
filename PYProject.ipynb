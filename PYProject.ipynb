{
 "cells": [
  {
   "cell_type": "code",
   "execution_count": 14,
   "metadata": {},
   "outputs": [],
   "source": [
    "import imageai"
   ]
  },
  {
   "cell_type": "code",
   "execution_count": 31,
   "metadata": {},
   "outputs": [
    {
     "name": "stdout",
     "output_type": "stream",
     "text": [
      "WARNING:tensorflow:No training configuration found in the save file, so the model was *not* compiled. Compile it manually.\n",
      "C:\\Users\\saira\n"
     ]
    }
   ],
   "source": [
    "from imageai.Detection import ObjectDetection\n",
    "import cv2\n",
    "import os\n",
    "p = os.getcwd() #get the current working directory\n",
    "detect = ObjectDetection() #create a instance ofclass\n",
    "detect.setModelTypeAsRetinaNet()#set the model\n",
    "detect.setModelPath( os.path.join(p , \"resnet50_coco_best_v2.1.0.h5\")) #path to the model file\n",
    "detect.loadModel() #load the model from the path\n",
    "print(p) #print current path"
   ]
  },
  {
   "cell_type": "code",
   "execution_count": 33,
   "metadata": {},
   "outputs": [
    {
     "name": "stdout",
     "output_type": "stream",
     "text": [
      "[{'name': 'person', 'percentage_probability': 63.060462474823, 'box_points': [292, 290, 550, 477]}]\n",
      "[{'name': 'dog', 'percentage_probability': 53.562211990356445, 'box_points': [279, 293, 526, 479]}]\n",
      "[{'name': 'person', 'percentage_probability': 52.74635553359985, 'box_points': [279, 291, 526, 478]}]\n",
      "[{'name': 'person', 'percentage_probability': 60.08872985839844, 'box_points': [276, 290, 523, 478]}]\n",
      "[{'name': 'person', 'percentage_probability': 95.03130912780762, 'box_points': [281, 289, 516, 477]}]\n",
      "[{'name': 'person', 'percentage_probability': 96.6026782989502, 'box_points': [285, 290, 520, 477]}]\n",
      "[{'name': 'person', 'percentage_probability': 59.455907344818115, 'box_points': [283, 288, 529, 477]}]\n",
      "[{'name': 'person', 'percentage_probability': 71.63265347480774, 'box_points': [285, 292, 532, 479]}]\n",
      "[{'name': 'person', 'percentage_probability': 74.32358264923096, 'box_points': [321, 294, 565, 478]}]\n"
     ]
    }
   ],
   "source": [
    "def detects(videoframe):\n",
    "    cv2.imwrite(os.path.join(path , \"image.tif\"),videoframe) #load image from file path\n",
    "    #it detects the objects in the image and gives corresponding bonding boxs\n",
    "    detection = detect.detectObjectsFromImage(input_image=os.path.join(p , \"image.tif\"), output_image_path=os.path.join(p , \"imagenew.tif\"))\n",
    "    print(detection)\n",
    "    try:\n",
    "        os.remove(\"C:/Users/saira/image.tif\")\n",
    "    except: pass\n",
    "    file=\"imagenew.tif\" #createing a new image from the video frame\n",
    "    image=cv2.imread(\"C:/Users/saira/\" +file)\n",
    "    return image\n",
    "vc = cv2.VideoCapture(0)#capture every frame sequentially\n",
    "while True:\n",
    "    _,videoframe = vc.read() #Capture everyframe\n",
    "    #grey = cv2.cvtColor(frame, cv2.COLOR_BGR2RGB) color to grey.\n",
    "    postimage = detects(videoframe)\n",
    "    cv2.imshow('Video', postimage)\n",
    "    if cv2.waitKey(1) & 0xFF == ord('q'): #Quit the video\n",
    "        break\n",
    "vc.release() #Video capture stopped \n",
    "cv2.destroyAllWindows() #Close the window\n",
    "#we are going to use the coordinates to find left or right"
   ]
  },
  {
   "cell_type": "code",
   "execution_count": null,
   "metadata": {},
   "outputs": [],
   "source": []
  }
 ],
 "metadata": {
  "kernelspec": {
   "display_name": "Python 3",
   "language": "python",
   "name": "python3"
  },
  "language_info": {
   "codemirror_mode": {
    "name": "ipython",
    "version": 3
   },
   "file_extension": ".py",
   "mimetype": "text/x-python",
   "name": "python",
   "nbconvert_exporter": "python",
   "pygments_lexer": "ipython3",
   "version": "3.8.8"
  }
 },
 "nbformat": 4,
 "nbformat_minor": 4
}
